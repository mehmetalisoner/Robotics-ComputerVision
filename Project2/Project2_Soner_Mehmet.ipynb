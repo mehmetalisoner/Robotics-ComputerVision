{
  "cells": [
    {
      "cell_type": "code",
      "execution_count": 27,
      "metadata": {
        "colab": {
          "base_uri": "https://localhost:8080/"
        },
        "id": "OvyNLoKCxWuT",
        "outputId": "13315226-affe-4d23-ec7e-531ef935b549"
      },
      "outputs": [
        {
          "name": "stdout",
          "output_type": "stream",
          "text": [
            "Hit:1 https://cloud.r-project.org/bin/linux/ubuntu bionic-cran40/ InRelease\n",
            "Hit:2 http://security.ubuntu.com/ubuntu bionic-security InRelease\n",
            "Hit:3 http://ppa.launchpad.net/c2d4u.team/c2d4u4.0+/ubuntu bionic InRelease\n",
            "Ign:4 https://developer.download.nvidia.com/compute/machine-learning/repos/ubuntu1804/x86_64  InRelease\n",
            "Hit:5 https://developer.download.nvidia.com/compute/cuda/repos/ubuntu1804/x86_64  InRelease\n",
            "Hit:6 https://developer.download.nvidia.com/compute/machine-learning/repos/ubuntu1804/x86_64  Release\n",
            "Hit:7 http://archive.ubuntu.com/ubuntu bionic InRelease\n",
            "Hit:8 http://ppa.launchpad.net/cran/libgit2/ubuntu bionic InRelease\n",
            "Hit:9 http://archive.ubuntu.com/ubuntu bionic-updates InRelease\n",
            "Hit:11 http://ppa.launchpad.net/deadsnakes/ppa/ubuntu bionic InRelease\n",
            "Hit:12 http://archive.ubuntu.com/ubuntu bionic-backports InRelease\n",
            "Hit:13 http://ppa.launchpad.net/graphics-drivers/ppa/ubuntu bionic InRelease\n",
            "Reading package lists... Done\n",
            "Reading package lists... Done\n",
            "Building dependency tree       \n",
            "Reading state information... Done\n",
            "x11-utils is already the newest version (7.7+3build1).\n",
            "xvfb is already the newest version (2:1.19.6-1ubuntu4.12).\n",
            "The following package was automatically installed and is no longer required:\n",
            "  libnvidia-common-460\n",
            "Use 'apt autoremove' to remove it.\n",
            "0 upgraded, 0 newly installed, 0 to remove and 10 not upgraded.\n",
            "Looking in indexes: https://pypi.org/simple, https://us-python.pkg.dev/colab-wheels/public/simple/\n",
            "Requirement already satisfied: pyvirtualdisplay==0.2.* in /usr/local/lib/python3.7/dist-packages (0.2.5)\n",
            "Requirement already satisfied: EasyProcess in /usr/local/lib/python3.7/dist-packages (from pyvirtualdisplay==0.2.*) (1.1)\n",
            "Looking in indexes: https://pypi.org/simple, https://us-python.pkg.dev/colab-wheels/public/simple/\n",
            "Requirement already satisfied: gym[classic_control] in /usr/local/lib/python3.7/dist-packages (0.25.2)\n",
            "Requirement already satisfied: cloudpickle>=1.2.0 in /usr/local/lib/python3.7/dist-packages (from gym[classic_control]) (1.5.0)\n",
            "Requirement already satisfied: importlib-metadata>=4.8.0 in /usr/local/lib/python3.7/dist-packages (from gym[classic_control]) (4.13.0)\n",
            "Requirement already satisfied: gym-notices>=0.0.4 in /usr/local/lib/python3.7/dist-packages (from gym[classic_control]) (0.0.8)\n",
            "Requirement already satisfied: numpy>=1.18.0 in /usr/local/lib/python3.7/dist-packages (from gym[classic_control]) (1.21.6)\n",
            "Requirement already satisfied: pygame==2.1.0 in /usr/local/lib/python3.7/dist-packages (from gym[classic_control]) (2.1.0)\n",
            "Requirement already satisfied: zipp>=0.5 in /usr/local/lib/python3.7/dist-packages (from importlib-metadata>=4.8.0->gym[classic_control]) (3.10.0)\n",
            "Requirement already satisfied: typing-extensions>=3.6.4 in /usr/local/lib/python3.7/dist-packages (from importlib-metadata>=4.8.0->gym[classic_control]) (4.1.1)\n"
          ]
        }
      ],
      "source": [
        "# Terminal commands, install rendering tools + gym\n",
        "!apt-get update\n",
        "!apt-get install -y xvfb x11-utils\n",
        "%pip install pyvirtualdisplay==0.2.*\n",
        "%pip install gym[classic_control]"
      ]
    },
    {
      "cell_type": "code",
      "execution_count": 31,
      "metadata": {
        "id": "1bC9ykEoxeUF"
      },
      "outputs": [],
      "source": [
        "# Prepare environment, we will first demonstrate a video withouth any training\n",
        "import gym\n",
        "\n",
        "if gym.__version__ < '0.26':\n",
        "    env = gym.make('CartPole-v0', new_step_api=True, render_mode='single_rgb_array').unwrapped\n",
        "else:\n",
        "    env = gym.make('CartPole-v0', render_mode='rgb_array').unwrapped"
      ]
    },
    {
      "cell_type": "code",
      "execution_count": 33,
      "metadata": {
        "colab": {
          "base_uri": "https://localhost:8080/"
        },
        "id": "iSPANDMcxrZo",
        "outputId": "b3a16c26-34b4-4528-bf0a-0565127cf41f"
      },
      "outputs": [
        {
          "name": "stderr",
          "output_type": "stream",
          "text": [
            "/usr/local/lib/python3.7/dist-packages/gym/wrappers/monitoring/video_recorder.py:102: DeprecationWarning: \u001b[33mWARN: <class 'gym.wrappers.monitoring.video_recorder.VideoRecorder'> is marked as deprecated and will be removed in the future.\u001b[0m\n",
            "  f\"{self.__class__} is marked as deprecated and will be removed in the future.\"\n",
            "/usr/local/lib/python3.7/dist-packages/gym/envs/classic_control/cartpole.py:180: UserWarning: \u001b[33mWARN: You are calling 'step()' even though this environment has already returned terminated = True. You should always call 'reset()' once you receive 'terminated = True' -- any further steps are undefined behavior.\u001b[0m\n",
            "  \"You are calling 'step()' even though this \"\n"
          ]
        }
      ],
      "source": [
        "# Install dependencies needed for recording videos\n",
        "from pyvirtualdisplay import Display\n",
        "display = Display(visible=False, size=(1400, 900))\n",
        "_ = display.start()\n",
        "from gym.wrappers.monitoring.video_recorder import VideoRecorder\n",
        "before_training = \"before_training.mp4\"\n",
        "video = VideoRecorder(env, before_training)\n",
        "\n",
        "env.reset()\n",
        "# Create video\n",
        "for i in range(200):\n",
        "  env.render()\n",
        "  video.capture_frame()\n",
        "  # env.action_space.sample() produces either 0 (left) or 1 (right).\n",
        "  observation, reward, done,_, info = env.step(env.action_space.sample())\n",
        "  # Not printing this time\n",
        "  # print(\"step\", i, observation, reward, done, info)\n",
        "\n",
        "video.close()\n",
        "env.close()"
      ]
    },
    {
      "cell_type": "code",
      "execution_count": 34,
      "metadata": {
        "id": "jVvXqNiFx7Fi"
      },
      "outputs": [],
      "source": [
        "# Render function\n",
        "from base64 import b64encode\n",
        "def render_mp4(videopath: str) -> str:\n",
        "  \"\"\"\n",
        "  Gets a string containing a b4-encoded version of the MP4 video\n",
        "  at the specified path.\n",
        "  \"\"\"\n",
        "  mp4 = open(videopath, 'rb').read()\n",
        "  base64_encoded_mp4 = b64encode(mp4).decode()\n",
        "  return f'<video width=400 controls><source src=\"data:video/mp4;' \\\n",
        "         f'base64,{base64_encoded_mp4}\" type=\"video/mp4\"></video>'"
      ]
    },
    {
      "cell_type": "code",
      "execution_count": 35,
      "metadata": {
        "colab": {
          "base_uri": "https://localhost:8080/",
          "height": 288
        },
        "id": "5W6rF1zlx_i9",
        "outputId": "c6b9e18b-2771-4578-fad3-b417aa63d0e9"
      },
      "outputs": [
        {
          "data": {
            "text/html": [
              "<video width=400 controls><source src=\"data:video/mp4;base64,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\" type=\"video/mp4\"></video>"
            ],
            "text/plain": [
              "<IPython.core.display.HTML object>"
            ]
          },
          "execution_count": 35,
          "metadata": {},
          "output_type": "execute_result"
        }
      ],
      "source": [
        "# Create and output video, BEFORE TRAINING\n",
        "from IPython.display import HTML\n",
        "html = render_mp4(before_training)\n",
        "HTML(html)"
      ]
    },
    {
      "cell_type": "code",
      "execution_count": 36,
      "metadata": {
        "colab": {
          "base_uri": "https://localhost:8080/"
        },
        "id": "OPUs2m35yZyk",
        "outputId": "3c8e6d7e-6d55-4545-d444-dc7b196c7327"
      },
      "outputs": [
        {
          "name": "stdout",
          "output_type": "stream",
          "text": [
            "Using cuda for inference\n"
          ]
        }
      ],
      "source": [
        "# Import packages for TRAINING\n",
        "import math\n",
        "import random\n",
        "import numpy as np\n",
        "import matplotlib\n",
        "import matplotlib.pyplot as plt\n",
        "from collections import namedtuple, deque\n",
        "from itertools import count\n",
        "from PIL import Image\n",
        "\n",
        "import torch\n",
        "import torch.nn as nn\n",
        "import torch.optim as optim\n",
        "import torch.nn.functional as F\n",
        "import torchvision.transforms as T\n",
        "\n",
        "\n",
        "# set up matplotlib\n",
        "is_ipython = 'inline' in matplotlib.get_backend()\n",
        "if is_ipython:\n",
        "    from IPython import display\n",
        "\n",
        "plt.ion()\n",
        "\n",
        "# if gpu is to be used\n",
        "device = torch.device(\"cuda\" if torch.cuda.is_available() else \"cpu\")\n",
        "print(f'Using {device} for inference')"
      ]
    },
    {
      "cell_type": "code",
      "execution_count": 37,
      "metadata": {
        "id": "Cw-n_qJmzK10"
      },
      "outputs": [],
      "source": [
        "Transition = namedtuple('Transition',\n",
        "                        ('state', 'action', 'next_state', 'reward'))\n",
        "\n",
        "class ReplayMemory(object):\n",
        "\n",
        "    def __init__(self, capacity):\n",
        "        self.memory = deque([],maxlen=capacity)\n",
        "\n",
        "    def push(self, *args):\n",
        "        \"\"\"Save a transition\"\"\"\n",
        "        self.memory.append(Transition(*args))\n",
        "\n",
        "    def sample(self, batch_size):\n",
        "        return random.sample(self.memory, batch_size)\n",
        "\n",
        "    def __len__(self):\n",
        "        return len(self.memory)"
      ]
    },
    {
      "cell_type": "code",
      "execution_count": 38,
      "metadata": {
        "id": "BiyyY-NSzs-m"
      },
      "outputs": [],
      "source": [
        "class DQN(nn.Module):\n",
        "\n",
        "    def __init__(self, h, w, outputs):\n",
        "        super(DQN, self).__init__()\n",
        "        self.conv1 = nn.Conv2d(3, 16, kernel_size=5, stride=2)\n",
        "        self.bn1 = nn.BatchNorm2d(16)\n",
        "        self.conv2 = nn.Conv2d(16, 32, kernel_size=5, stride=2)\n",
        "        self.bn2 = nn.BatchNorm2d(32)\n",
        "        self.conv3 = nn.Conv2d(32, 32, kernel_size=5, stride=2)\n",
        "        self.bn3 = nn.BatchNorm2d(32)\n",
        "\n",
        "        # Number of Linear input connections depends on output of conv2d layers\n",
        "        # and therefore the input image size, so compute it.\n",
        "        def conv2d_size_out(size, kernel_size = 5, stride = 2):\n",
        "            return (size - (kernel_size - 1) - 1) // stride  + 1\n",
        "        convw = conv2d_size_out(conv2d_size_out(conv2d_size_out(w)))\n",
        "        convh = conv2d_size_out(conv2d_size_out(conv2d_size_out(h)))\n",
        "        linear_input_size = convw * convh * 32\n",
        "        self.head = nn.Linear(linear_input_size, outputs)\n",
        "\n",
        "    # Called with either one element to determine next action, or a batch\n",
        "    # during optimization. Returns tensor([[left0exp,right0exp]...]).\n",
        "    def forward(self, x):\n",
        "        x = x.to(device)\n",
        "        x = F.relu(self.bn1(self.conv1(x)))\n",
        "        x = F.relu(self.bn2(self.conv2(x)))\n",
        "        x = F.relu(self.bn3(self.conv3(x)))\n",
        "        return self.head(x.view(x.size(0), -1))"
      ]
    },
    {
      "cell_type": "code",
      "execution_count": 39,
      "metadata": {
        "colab": {
          "base_uri": "https://localhost:8080/",
          "height": 268
        },
        "id": "p1ny0upJzvl7",
        "outputId": "6e5b564f-d4cf-4272-c0d7-9b60e1fcdb40"
      },
      "outputs": [
        {
          "name": "stderr",
          "output_type": "stream",
          "text": [
            "/usr/local/lib/python3.7/dist-packages/torchvision/transforms/transforms.py:333: UserWarning: Argument 'interpolation' of type int is deprecated since 0.13 and will be removed in 0.15. Please use InterpolationMode enum.\n",
            "  \"Argument 'interpolation' of type int is deprecated since 0.13 and will be removed in 0.15. \"\n"
          ]
        },
        {
          "data": {
            "image/png": "[encoded data removed]",
            "text/plain": [
              "<Figure size 432x288 with 1 Axes>"
            ]
          },
          "metadata": {
            "needs_background": "light"
          },
          "output_type": "display_data"
        }
      ],
      "source": [
        "resize = T.Compose([T.ToPILImage(),\n",
        "                    T.Resize(40, interpolation=Image.CUBIC),\n",
        "                    T.ToTensor()])\n",
        "\n",
        "\n",
        "def get_cart_location(screen_width):\n",
        "    world_width = env.x_threshold * 2\n",
        "    scale = screen_width / world_width\n",
        "    return int(env.state[0] * scale + screen_width / 2.0)  # MIDDLE OF CART\n",
        "\n",
        "def get_screen():\n",
        "    # Returned screen requested by gym is 400x600x3, but is sometimes larger\n",
        "    # such as 800x1200x3. Transpose it into torch order (CHW).\n",
        "    screen = env.render().transpose((2, 0, 1))\n",
        "    # Cart is in the lower half, so strip off the top and bottom of the screen\n",
        "    _, screen_height, screen_width = screen.shape\n",
        "    screen = screen[:, int(screen_height*0.4):int(screen_height * 0.8)]\n",
        "    view_width = int(screen_width * 0.6)\n",
        "    cart_location = get_cart_location(screen_width)\n",
        "    if cart_location < view_width // 2:\n",
        "        slice_range = slice(view_width)\n",
        "    elif cart_location > (screen_width - view_width // 2):\n",
        "        slice_range = slice(-view_width, None)\n",
        "    else:\n",
        "        slice_range = slice(cart_location - view_width // 2,\n",
        "                            cart_location + view_width // 2)\n",
        "    # Strip off the edges, so that we have a square image centered on a cart\n",
        "    screen = screen[:, :, slice_range]\n",
        "    # Convert to float, rescale, convert to torch tensor\n",
        "    # (this doesn't require a copy)\n",
        "    screen = np.ascontiguousarray(screen, dtype=np.float32) / 255\n",
        "    screen = torch.from_numpy(screen)\n",
        "    # Resize, and add a batch dimension (BCHW)\n",
        "    return resize(screen).unsqueeze(0)\n",
        "\n",
        "\n",
        "env.reset()\n",
        "plt.figure()\n",
        "plt.imshow(get_screen().cpu().squeeze(0).permute(1, 2, 0).numpy(),\n",
        "           interpolation='none')\n",
        "plt.title('Example extracted screen')\n",
        "plt.show()"
      ]
    },
    {
      "cell_type": "code",
      "execution_count": 40,
      "metadata": {
        "id": "ZnGzRhGC1Rvc"
      },
      "outputs": [],
      "source": [
        "BATCH_SIZE = 128\n",
        "GAMMA = 0.999\n",
        "EPS_START = 0.9\n",
        "EPS_END = 0.05\n",
        "EPS_DECAY = 200\n",
        "TARGET_UPDATE = 10\n",
        "\n",
        "# Get screen size so that we can initialize layers correctly based on shape\n",
        "# returned from AI gym. Typical dimensions at this point are close to 3x40x90\n",
        "# which is the result of a clamped and down-scaled render buffer in get_screen()\n",
        "init_screen = get_screen()\n",
        "_, _, screen_height, screen_width = init_screen.shape\n",
        "\n",
        "# Get number of actions from gym action space\n",
        "n_actions = env.action_space.n\n",
        "\n",
        "policy_net = DQN(screen_height, screen_width, n_actions).to(device)\n",
        "target_net = DQN(screen_height, screen_width, n_actions).to(device)\n",
        "target_net.load_state_dict(policy_net.state_dict())\n",
        "target_net.eval()\n",
        "\n",
        "optimizer = optim.RMSprop(policy_net.parameters())\n",
        "memory = ReplayMemory(10000)\n",
        "\n",
        "\n",
        "steps_done = 0\n",
        "\n",
        "\n",
        "def select_action(state):\n",
        "    global steps_done\n",
        "    sample = random.random()\n",
        "    eps_threshold = EPS_END + (EPS_START - EPS_END) * \\\n",
        "        math.exp(-1. * steps_done / EPS_DECAY)\n",
        "    steps_done += 1\n",
        "    if sample > eps_threshold:\n",
        "        with torch.no_grad():\n",
        "            # t.max(1) will return largest column value of each row.\n",
        "            # second column on max result is index of where max element was\n",
        "            # found, so we pick action with the larger expected reward.\n",
        "            return policy_net(state).max(1)[1].view(1, 1)\n",
        "    else:\n",
        "        return torch.tensor([[random.randrange(n_actions)]], device=device, dtype=torch.long)\n",
        "\n",
        "\n",
        "episode_durations = []\n",
        "\n",
        "\n",
        "def plot_durations():\n",
        "    plt.figure(2)\n",
        "    plt.clf()\n",
        "    durations_t = torch.tensor(episode_durations, dtype=torch.float)\n",
        "    plt.title('Training...')\n",
        "    plt.xlabel('Episode')\n",
        "    plt.ylabel('Duration')\n",
        "    plt.plot(durations_t.numpy())\n",
        "    # Take 100 episode averages and plot them too\n",
        "    if len(durations_t) >= 100:\n",
        "        means = durations_t.unfold(0, 100, 1).mean(1).view(-1)\n",
        "        means = torch.cat((torch.zeros(99), means))\n",
        "        plt.plot(means.numpy())\n",
        "\n",
        "    plt.pause(0.001)  # pause a bit so that plots are updated\n",
        "    if is_ipython:\n",
        "        display.clear_output(wait=True)\n",
        "        display.display(plt.gcf())"
      ]
    },
    {
      "cell_type": "code",
      "execution_count": 41,
      "metadata": {
        "id": "6o6sP2lf1VeM"
      },
      "outputs": [],
      "source": [
        "def optimize_model():\n",
        "    if len(memory) < BATCH_SIZE:\n",
        "        return\n",
        "    transitions = memory.sample(BATCH_SIZE)\n",
        "    # Transpose the batch (see https://stackoverflow.com/a/19343/3343043 for\n",
        "    # detailed explanation). This converts batch-array of Transitions\n",
        "    # to Transition of batch-arrays.\n",
        "    batch = Transition(*zip(*transitions))\n",
        "\n",
        "    # Compute a mask of non-final states and concatenate the batch elements\n",
        "    # (a final state would've been the one after which simulation ended)\n",
        "    non_final_mask = torch.tensor(tuple(map(lambda s: s is not None,\n",
        "                                          batch.next_state)), device=device, dtype=torch.bool)\n",
        "    non_final_next_states = torch.cat([s for s in batch.next_state\n",
        "                                                if s is not None])\n",
        "    state_batch = torch.cat(batch.state)\n",
        "    action_batch = torch.cat(batch.action)\n",
        "    reward_batch = torch.cat(batch.reward)\n",
        "\n",
        "    # Compute Q(s_t, a) - the model computes Q(s_t), then we select the\n",
        "    # columns of actions taken. These are the actions which would've been taken\n",
        "    # for each batch state according to policy_net\n",
        "    state_action_values = policy_net(state_batch).gather(1, action_batch)\n",
        "\n",
        "    # Compute V(s_{t+1}) for all next states.\n",
        "    # Expected values of actions for non_final_next_states are computed based\n",
        "    # on the \"older\" target_net; selecting their best reward with max(1)[0].\n",
        "    # This is merged based on the mask, such that we'll have either the expected\n",
        "    # state value or 0 in case the state was final.\n",
        "    next_state_values = torch.zeros(BATCH_SIZE, device=device)\n",
        "    next_state_values[non_final_mask] = target_net(non_final_next_states).max(1)[0].detach()\n",
        "    # Compute the expected Q values\n",
        "    expected_state_action_values = (next_state_values * GAMMA) + reward_batch\n",
        "\n",
        "    # Compute Huber loss\n",
        "    criterion = nn.SmoothL1Loss()\n",
        "    loss = criterion(state_action_values, expected_state_action_values.unsqueeze(1))\n",
        "\n",
        "    # Optimize the model\n",
        "    optimizer.zero_grad()\n",
        "    loss.backward()\n",
        "    for param in policy_net.parameters():\n",
        "        param.grad.data.clamp_(-1, 1)\n",
        "    optimizer.step()"
      ]
    },
    {
      "cell_type": "code",
      "execution_count": 71,
      "metadata": {
        "colab": {
          "base_uri": "https://localhost:8080/"
        },
        "id": "RSrn3YpK1ZdM",
        "outputId": "172a0e2b-c2e7-4a96-c2df-68472aeaf04c"
      },
      "outputs": [
        {
          "name": "stderr",
          "output_type": "stream",
          "text": [
            "/usr/local/lib/python3.7/dist-packages/gym/wrappers/monitoring/video_recorder.py:102: DeprecationWarning: \u001b[33mWARN: <class 'gym.wrappers.monitoring.video_recorder.VideoRecorder'> is marked as deprecated and will be removed in the future.\u001b[0m\n",
            "  f\"{self.__class__} is marked as deprecated and will be removed in the future.\"\n"
          ]
        },
        {
          "name": "stdout",
          "output_type": "stream",
          "text": [
            "Complete\n"
          ]
        }
      ],
      "source": [
        "num_episodes = 50\n",
        "# total_reward = []\n",
        "for i_episode in range(num_episodes):\n",
        "    # Initialize the environment and state\n",
        "    env.reset()\n",
        "    last_screen = get_screen()\n",
        "    current_screen = get_screen()\n",
        "    state = current_screen - last_screen\n",
        "    # iter_reward = 0\n",
        "\n",
        "    if i_episode == (num_episodes-1):\n",
        "      # Prepare display etc\n",
        "      from pyvirtualdisplay import Display\n",
        "      display = Display(visible=False, size=(1400, 900))\n",
        "      _ = display.start()\n",
        "      from gym.wrappers.monitoring.video_recorder import VideoRecorder\n",
        "      after_training = \"after_training.mp4\"\n",
        "      video = VideoRecorder(env, after_training)\n",
        "\n",
        "      # record video for last episode\n",
        "      for i in range(200):\n",
        "        env.render()\n",
        "        video.capture_frame()\n",
        "        # Select and perform an action\n",
        "        action = select_action(state)\n",
        "        _, reward, done, _, _ = env.step(action.item())\n",
        "        #iter_reward += reward\n",
        "        reward = torch.tensor([reward], device=device)\n",
        "\n",
        "        # Observe new state\n",
        "        last_screen = current_screen\n",
        "        current_screen = get_screen()\n",
        "        if not done:\n",
        "            next_state = current_screen - last_screen\n",
        "        else:\n",
        "            next_state = None\n",
        "\n",
        "        # Store the transition in memory\n",
        "        memory.push(state, action, next_state, reward)\n",
        "\n",
        "        # Move to the next state\n",
        "        state = next_state\n",
        "\n",
        "        # Perform one step of the optimization (on the policy network)\n",
        "        optimize_model()\n",
        "        if done:\n",
        "            episode_durations.append(t + 1)\n",
        "            # plot_durations()\n",
        "            break\n",
        "\n",
        "        # Update the target network, copying all weights and biases in DQN\n",
        "        if t % TARGET_UPDATE == 0:\n",
        "            target_net.load_state_dict(policy_net.state_dict())\n",
        "\n",
        "      video.close()\n",
        "      env.close()\n",
        "\n",
        "    else:\n",
        "      for t in count():\n",
        "        # Select and perform an action\n",
        "        action = select_action(state)\n",
        "        _, reward, done, _, _ = env.step(action.item())\n",
        "        #iter_reward += reward\n",
        "        reward = torch.tensor([reward], device=device)\n",
        "\n",
        "        # Observe new state\n",
        "        last_screen = current_screen\n",
        "        current_screen = get_screen()\n",
        "        if not done:\n",
        "            next_state = current_screen - last_screen\n",
        "        else:\n",
        "            next_state = None\n",
        "\n",
        "        # Store the transition in memory\n",
        "        memory.push(state, action, next_state, reward)\n",
        "\n",
        "        # Move to the next state\n",
        "        state = next_state\n",
        "\n",
        "        # Perform one step of the optimization (on the policy network)\n",
        "        optimize_model()\n",
        "        if done:\n",
        "            episode_durations.append(t + 1)\n",
        "            # plot_durations()\n",
        "            break\n",
        "\n",
        "        # Update the target network, copying all weights and biases in DQN\n",
        "        if t % TARGET_UPDATE == 0:\n",
        "            target_net.load_state_dict(policy_net.state_dict())\n",
        "    #total_reward.append(iter_reward)\n",
        "\n",
        "\n",
        "    \n",
        "env.close()\n",
        "print('Complete')\n",
        "plt.ioff()\n",
        "plt.show()"
      ]
    },
    {
      "cell_type": "code",
      "execution_count": 72,
      "metadata": {
        "colab": {
          "base_uri": "https://localhost:8080/",
          "height": 288
        },
        "id": "z5mSdTbu1u9z",
        "outputId": "25ec2934-61b3-4da5-9368-6cbbe1e80d9f"
      },
      "outputs": [
        {
          "data": {
            "text/html": [
              "<video width=400 controls><source src=\"data:video/mp4;base64,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\" type=\"video/mp4\"></video>"
            ],
            "text/plain": [
              "<IPython.core.display.HTML object>"
            ]
          },
          "execution_count": 72,
          "metadata": {},
          "output_type": "execute_result"
        }
      ],
      "source": [
        "# Create and output video, AFTER TRAINING\n",
        "from IPython.display import HTML\n",
        "html = render_mp4(after_training)\n",
        "HTML(html)"
      ]
    },
    {
      "cell_type": "code",
      "execution_count": null,
      "metadata": {},
      "outputs": [],
      "source": [
        "def plot_res(values, title=''):   \n",
        "    ''' Plot the reward curve and histogram of results over time.'''\n",
        "    # Update the window after each episode\n",
        "    clear_output(wait=True)\n",
        "    \n",
        "    # Define the figure\n",
        "    f, ax = plt.subplots(nrows=1, ncols=2, figsize=(12,5))\n",
        "    f.suptitle(title)\n",
        "    ax[0].plot(values, label='score per run')\n",
        "    ax[0].axhline(195, c='red',ls='--', label='goal')\n",
        "    ax[0].set_xlabel('Episodes')\n",
        "    ax[0].set_ylabel('Reward')\n",
        "    x = range(len(values))\n",
        "    ax[0].legend()\n",
        "    # Calculate the trend\n",
        "    try:\n",
        "        z = np.polyfit(x, values, 1)\n",
        "        p = np.poly1d(z)\n",
        "        ax[0].plot(x,p(x),\"--\", label='trend')\n",
        "    except:\n",
        "        print('')\n",
        "    \n",
        "    # Plot the histogram of results\n",
        "    ax[1].hist(values[-50:])\n",
        "    ax[1].axvline(195, c='red', label='goal')\n",
        "    ax[1].set_xlabel('Scores per Last 50 Episodes')\n",
        "    ax[1].set_ylabel('Frequency')\n",
        "    ax[1].legend()\n",
        "    plt.show()"
      ]
    },
    {
      "cell_type": "code",
      "execution_count": null,
      "metadata": {},
      "outputs": [],
      "source": [
        "# plot_res(total_reward,\"Reward over Time\")"
      ]
    }
  ],
  "metadata": {
    "accelerator": "GPU",
    "colab": {
      "provenance": []
    },
    "gpuClass": "standard",
    "kernelspec": {
      "display_name": "Python 3",
      "name": "python3"
    },
    "language_info": {
      "name": "python"
    }
  },
  "nbformat": 4,
  "nbformat_minor": 0
}
