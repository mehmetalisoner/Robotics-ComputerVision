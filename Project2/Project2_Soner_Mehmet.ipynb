{
 "cells": [
  {
   "cell_type": "code",
   "execution_count": 2,
   "metadata": {},
   "outputs": [
    {
     "name": "stderr",
     "output_type": "stream",
     "text": [
      "'apt-get' is not recognized as an internal or external command,\n",
      "operable program or batch file.\n"
     ]
    },
    {
     "name": "stdout",
     "output_type": "stream",
     "text": [
      "Requirement already satisfied: pyvirtualdisplay==0.2.* in c:\\users\\soner\\appdata\\local\\programs\\python\\python310\\lib\\site-packages (0.2.5)\n",
      "Requirement already satisfied: EasyProcess in c:\\users\\soner\\appdata\\local\\programs\\python\\python310\\lib\\site-packages (from pyvirtualdisplay==0.2.*) (1.1)\n",
      "Note: you may need to restart the kernel to use updated packages.\n"
     ]
    },
    {
     "ename": "EasyProcessError",
     "evalue": "start error <EasyProcess cmd_param=['Xvfb', '-help'] cmd=['Xvfb', '-help'] oserror=[WinError 2] The system cannot find the file specified return_code=None stdout=\"None\" stderr=\"None\" timeout_happened=False>",
     "output_type": "error",
     "traceback": [
      "\u001b[1;31m---------------------------------------------------------------------------\u001b[0m",
      "\u001b[1;31mFileNotFoundError\u001b[0m                         Traceback (most recent call last)",
      "File \u001b[1;32mc:\\Users\\soner\\AppData\\Local\\Programs\\Python\\Python310\\lib\\site-packages\\easyprocess\\__init__.py:176\u001b[0m, in \u001b[0;36mEasyProcess.start\u001b[1;34m(self)\u001b[0m\n\u001b[0;32m    175\u001b[0m \u001b[39mtry\u001b[39;00m:\n\u001b[1;32m--> 176\u001b[0m     \u001b[39mself\u001b[39m\u001b[39m.\u001b[39mpopen \u001b[39m=\u001b[39m subprocess\u001b[39m.\u001b[39;49mPopen(\n\u001b[0;32m    177\u001b[0m         \u001b[39mself\u001b[39;49m\u001b[39m.\u001b[39;49mcmd,\n\u001b[0;32m    178\u001b[0m         stdout\u001b[39m=\u001b[39;49mstdout,\n\u001b[0;32m    179\u001b[0m         stderr\u001b[39m=\u001b[39;49mstderr,\n\u001b[0;32m    180\u001b[0m         cwd\u001b[39m=\u001b[39;49m\u001b[39mself\u001b[39;49m\u001b[39m.\u001b[39;49mcwd,\n\u001b[0;32m    181\u001b[0m         env\u001b[39m=\u001b[39;49m\u001b[39mself\u001b[39;49m\u001b[39m.\u001b[39;49menv,\n\u001b[0;32m    182\u001b[0m     )\n\u001b[0;32m    183\u001b[0m \u001b[39mexcept\u001b[39;00m \u001b[39mOSError\u001b[39;00m \u001b[39mas\u001b[39;00m oserror:\n",
      "File \u001b[1;32mc:\\Users\\soner\\AppData\\Local\\Programs\\Python\\Python310\\lib\\subprocess.py:969\u001b[0m, in \u001b[0;36mPopen.__init__\u001b[1;34m(self, args, bufsize, executable, stdin, stdout, stderr, preexec_fn, close_fds, shell, cwd, env, universal_newlines, startupinfo, creationflags, restore_signals, start_new_session, pass_fds, user, group, extra_groups, encoding, errors, text, umask, pipesize)\u001b[0m\n\u001b[0;32m    966\u001b[0m             \u001b[39mself\u001b[39m\u001b[39m.\u001b[39mstderr \u001b[39m=\u001b[39m io\u001b[39m.\u001b[39mTextIOWrapper(\u001b[39mself\u001b[39m\u001b[39m.\u001b[39mstderr,\n\u001b[0;32m    967\u001b[0m                     encoding\u001b[39m=\u001b[39mencoding, errors\u001b[39m=\u001b[39merrors)\n\u001b[1;32m--> 969\u001b[0m     \u001b[39mself\u001b[39;49m\u001b[39m.\u001b[39;49m_execute_child(args, executable, preexec_fn, close_fds,\n\u001b[0;32m    970\u001b[0m                         pass_fds, cwd, env,\n\u001b[0;32m    971\u001b[0m                         startupinfo, creationflags, shell,\n\u001b[0;32m    972\u001b[0m                         p2cread, p2cwrite,\n\u001b[0;32m    973\u001b[0m                         c2pread, c2pwrite,\n\u001b[0;32m    974\u001b[0m                         errread, errwrite,\n\u001b[0;32m    975\u001b[0m                         restore_signals,\n\u001b[0;32m    976\u001b[0m                         gid, gids, uid, umask,\n\u001b[0;32m    977\u001b[0m                         start_new_session)\n\u001b[0;32m    978\u001b[0m \u001b[39mexcept\u001b[39;00m:\n\u001b[0;32m    979\u001b[0m     \u001b[39m# Cleanup if the child failed starting.\u001b[39;00m\n",
      "File \u001b[1;32mc:\\Users\\soner\\AppData\\Local\\Programs\\Python\\Python310\\lib\\subprocess.py:1438\u001b[0m, in \u001b[0;36mPopen._execute_child\u001b[1;34m(self, args, executable, preexec_fn, close_fds, pass_fds, cwd, env, startupinfo, creationflags, shell, p2cread, p2cwrite, c2pread, c2pwrite, errread, errwrite, unused_restore_signals, unused_gid, unused_gids, unused_uid, unused_umask, unused_start_new_session)\u001b[0m\n\u001b[0;32m   1437\u001b[0m \u001b[39mtry\u001b[39;00m:\n\u001b[1;32m-> 1438\u001b[0m     hp, ht, pid, tid \u001b[39m=\u001b[39m _winapi\u001b[39m.\u001b[39;49mCreateProcess(executable, args,\n\u001b[0;32m   1439\u001b[0m                              \u001b[39m# no special security\u001b[39;49;00m\n\u001b[0;32m   1440\u001b[0m                              \u001b[39mNone\u001b[39;49;00m, \u001b[39mNone\u001b[39;49;00m,\n\u001b[0;32m   1441\u001b[0m                              \u001b[39mint\u001b[39;49m(\u001b[39mnot\u001b[39;49;00m close_fds),\n\u001b[0;32m   1442\u001b[0m                              creationflags,\n\u001b[0;32m   1443\u001b[0m                              env,\n\u001b[0;32m   1444\u001b[0m                              cwd,\n\u001b[0;32m   1445\u001b[0m                              startupinfo)\n\u001b[0;32m   1446\u001b[0m \u001b[39mfinally\u001b[39;00m:\n\u001b[0;32m   1447\u001b[0m     \u001b[39m# Child is launched. Close the parent's copy of those pipe\u001b[39;00m\n\u001b[0;32m   1448\u001b[0m     \u001b[39m# handles that only the child should have open.  You need\u001b[39;00m\n\u001b[1;32m   (...)\u001b[0m\n\u001b[0;32m   1451\u001b[0m     \u001b[39m# pipe will not close when the child process exits and the\u001b[39;00m\n\u001b[0;32m   1452\u001b[0m     \u001b[39m# ReadFile will hang.\u001b[39;00m\n",
      "\u001b[1;31mFileNotFoundError\u001b[0m: [WinError 2] The system cannot find the file specified",
      "\nDuring handling of the above exception, another exception occurred:\n",
      "\u001b[1;31mEasyProcessError\u001b[0m                          Traceback (most recent call last)",
      "Cell \u001b[1;32mIn [2], line 12\u001b[0m\n\u001b[0;32m      8\u001b[0m \u001b[39m# install dependencies needed for recording videos\u001b[39;00m\n\u001b[0;32m     11\u001b[0m \u001b[39mfrom\u001b[39;00m \u001b[39mpyvirtualdisplay\u001b[39;00m \u001b[39mimport\u001b[39;00m Display\n\u001b[1;32m---> 12\u001b[0m display \u001b[39m=\u001b[39m Display(visible\u001b[39m=\u001b[39;49m\u001b[39mFalse\u001b[39;49;00m, size\u001b[39m=\u001b[39;49m(\u001b[39m1400\u001b[39;49m, \u001b[39m900\u001b[39;49m))\n\u001b[0;32m     13\u001b[0m _ \u001b[39m=\u001b[39m display\u001b[39m.\u001b[39mstart()\n\u001b[0;32m     16\u001b[0m \u001b[39mfrom\u001b[39;00m \u001b[39mgym\u001b[39;00m\u001b[39m.\u001b[39;00m\u001b[39mwrappers\u001b[39;00m\u001b[39m.\u001b[39;00m\u001b[39mmonitoring\u001b[39;00m\u001b[39m.\u001b[39;00m\u001b[39mvideo_recorder\u001b[39;00m \u001b[39mimport\u001b[39;00m VideoRecorder\n",
      "File \u001b[1;32mc:\\Users\\soner\\AppData\\Local\\Programs\\Python\\Python310\\lib\\site-packages\\pyvirtualdisplay\\display.py:34\u001b[0m, in \u001b[0;36mDisplay.__init__\u001b[1;34m(self, backend, visible, size, color_depth, bgcolor, use_xauth, check_startup, randomizer, **kwargs)\u001b[0m\n\u001b[0;32m     31\u001b[0m     \u001b[39melse\u001b[39;00m:\n\u001b[0;32m     32\u001b[0m         \u001b[39mself\u001b[39m\u001b[39m.\u001b[39mbackend \u001b[39m=\u001b[39m \u001b[39m'\u001b[39m\u001b[39mxvfb\u001b[39m\u001b[39m'\u001b[39m\n\u001b[1;32m---> 34\u001b[0m \u001b[39mself\u001b[39m\u001b[39m.\u001b[39m_obj \u001b[39m=\u001b[39m \u001b[39mself\u001b[39;49m\u001b[39m.\u001b[39;49mdisplay_class(\n\u001b[0;32m     35\u001b[0m     size\u001b[39m=\u001b[39msize,\n\u001b[0;32m     36\u001b[0m     color_depth\u001b[39m=\u001b[39mcolor_depth,\n\u001b[0;32m     37\u001b[0m     bgcolor\u001b[39m=\u001b[39mbgcolor,\n\u001b[0;32m     38\u001b[0m     randomizer\u001b[39m=\u001b[39mrandomizer,\n\u001b[0;32m     39\u001b[0m     \u001b[39m*\u001b[39m\u001b[39m*\u001b[39mkwargs)\n\u001b[0;32m     40\u001b[0m AbstractDisplay\u001b[39m.\u001b[39m\u001b[39m__init__\u001b[39m(\u001b[39mself\u001b[39m, use_xauth\u001b[39m=\u001b[39muse_xauth, check_startup\u001b[39m=\u001b[39mcheck_startup, randomizer\u001b[39m=\u001b[39mrandomizer)\n",
      "File \u001b[1;32mc:\\Users\\soner\\AppData\\Local\\Programs\\Python\\Python310\\lib\\site-packages\\pyvirtualdisplay\\display.py:53\u001b[0m, in \u001b[0;36mDisplay.display_class\u001b[1;34m(self)\u001b[0m\n\u001b[0;32m     50\u001b[0m     \u001b[39mcls\u001b[39m \u001b[39m=\u001b[39m XephyrDisplay\n\u001b[0;32m     52\u001b[0m \u001b[39m# TODO: check only once\u001b[39;00m\n\u001b[1;32m---> 53\u001b[0m \u001b[39mcls\u001b[39;49m\u001b[39m.\u001b[39;49mcheck_installed()\n\u001b[0;32m     55\u001b[0m \u001b[39mreturn\u001b[39;00m \u001b[39mcls\u001b[39m\n",
      "File \u001b[1;32mc:\\Users\\soner\\AppData\\Local\\Programs\\Python\\Python310\\lib\\site-packages\\pyvirtualdisplay\\xvfb.py:40\u001b[0m, in \u001b[0;36mXvfbDisplay.check_installed\u001b[1;34m(cls)\u001b[0m\n\u001b[0;32m     38\u001b[0m p\u001b[39m.\u001b[39menable_stdout_log \u001b[39m=\u001b[39m \u001b[39mFalse\u001b[39;00m\n\u001b[0;32m     39\u001b[0m p\u001b[39m.\u001b[39menable_stderr_log \u001b[39m=\u001b[39m \u001b[39mFalse\u001b[39;00m\n\u001b[1;32m---> 40\u001b[0m p\u001b[39m.\u001b[39;49mcall()\n",
      "File \u001b[1;32mc:\\Users\\soner\\AppData\\Local\\Programs\\Python\\Python310\\lib\\site-packages\\easyprocess\\__init__.py:147\u001b[0m, in \u001b[0;36mEasyProcess.call\u001b[1;34m(self, timeout)\u001b[0m\n\u001b[0;32m    136\u001b[0m \u001b[39m\"\"\"Run command with arguments. Wait for command to complete.\u001b[39;00m\n\u001b[0;32m    137\u001b[0m \n\u001b[0;32m    138\u001b[0m \u001b[39msame as:\u001b[39;00m\n\u001b[1;32m   (...)\u001b[0m\n\u001b[0;32m    144\u001b[0m \n\u001b[0;32m    145\u001b[0m \u001b[39m\"\"\"\u001b[39;00m\n\u001b[0;32m    146\u001b[0m \u001b[39mtry\u001b[39;00m:\n\u001b[1;32m--> 147\u001b[0m     \u001b[39mself\u001b[39;49m\u001b[39m.\u001b[39;49mstart()\u001b[39m.\u001b[39mwait(timeout\u001b[39m=\u001b[39mtimeout)\n\u001b[0;32m    148\u001b[0m \u001b[39mfinally\u001b[39;00m:\n\u001b[0;32m    149\u001b[0m     \u001b[39mif\u001b[39;00m \u001b[39mself\u001b[39m\u001b[39m.\u001b[39mis_alive():\n",
      "File \u001b[1;32mc:\\Users\\soner\\AppData\\Local\\Programs\\Python\\Python310\\lib\\site-packages\\easyprocess\\__init__.py:186\u001b[0m, in \u001b[0;36mEasyProcess.start\u001b[1;34m(self)\u001b[0m\n\u001b[0;32m    184\u001b[0m     log\u001b[39m.\u001b[39mdebug(\u001b[39m\"\u001b[39m\u001b[39mOSError exception: \u001b[39m\u001b[39m%s\u001b[39;00m\u001b[39m\"\u001b[39m, oserror)\n\u001b[0;32m    185\u001b[0m     \u001b[39mself\u001b[39m\u001b[39m.\u001b[39moserror \u001b[39m=\u001b[39m oserror\n\u001b[1;32m--> 186\u001b[0m     \u001b[39mraise\u001b[39;00m EasyProcessError(\u001b[39mself\u001b[39m, \u001b[39m\"\u001b[39m\u001b[39mstart error\u001b[39m\u001b[39m\"\u001b[39m)\n\u001b[0;32m    187\u001b[0m \u001b[39mself\u001b[39m\u001b[39m.\u001b[39mis_started \u001b[39m=\u001b[39m \u001b[39mTrue\u001b[39;00m\n\u001b[0;32m    188\u001b[0m log\u001b[39m.\u001b[39mdebug(\u001b[39m\"\u001b[39m\u001b[39mprocess was started (pid=\u001b[39m\u001b[39m%s\u001b[39;00m\u001b[39m)\u001b[39m\u001b[39m\"\u001b[39m, \u001b[39mself\u001b[39m\u001b[39m.\u001b[39mpid)\n",
      "\u001b[1;31mEasyProcessError\u001b[0m: start error <EasyProcess cmd_param=['Xvfb', '-help'] cmd=['Xvfb', '-help'] oserror=[WinError 2] The system cannot find the file specified return_code=None stdout=\"None\" stderr=\"None\" timeout_happened=False>"
     ]
    }
   ],
   "source": [
    "# Displaying\n",
    "# !apt-get install -y xvfb x11-utils\n",
    "%pip install pyvirtualdisplay==0.2.*\n",
    "\n",
    "import gym\n",
    "env = gym.make(\"CartPole-v0\")\n",
    "\n",
    "# install dependencies needed for recording videos\n",
    "\n",
    "\n",
    "from pyvirtualdisplay import Display\n",
    "display = Display(visible=False, size=(1400, 900))\n",
    "_ = display.start()\n",
    "\n",
    "\n",
    "from gym.wrappers.monitoring.video_recorder import VideoRecorder\n",
    "before_training = \"before_training.mp4\"\n",
    "\n",
    "video = VideoRecorder(env, before_training)\n",
    "# returns an initial observation\n",
    "env.reset()\n",
    "for i in range(200):\n",
    "  env.render()\n",
    "  video.capture_frame()\n",
    "  # env.action_space.sample() produces either 0 (left) or 1 (right).\n",
    "  observation, reward, done, info = env.step(env.action_space.sample())\n",
    "  # Not printing this time\n",
    "  #print(\"step\", i, observation, reward, done, info)\n",
    "\n",
    "video.close()\n",
    "env.close()\n",
    "\n",
    "from base64 import b64encode\n",
    "def render_mp4(videopath: str) -> str:\n",
    "  \"\"\"\n",
    "  Gets a string containing a b4-encoded version of the MP4 video\n",
    "  at the specified path.\n",
    "  \"\"\"\n",
    "  mp4 = open(videopath, 'rb').read()\n",
    "  base64_encoded_mp4 = b64encode(mp4).decode()\n",
    "  return f'<video width=400 controls><source src=\"data:video/mp4;' \\\n",
    "         f'base64,{base64_encoded_mp4}\" type=\"video/mp4\"></video>'\n",
    "\n",
    "from IPython.display import HTML\n",
    "html = render_mp4(before_training)\n",
    "HTML(html)"
   ]
  }
 ],
 "metadata": {
  "kernelspec": {
   "display_name": "Python 3.10.7 64-bit",
   "language": "python",
   "name": "python3"
  },
  "language_info": {
   "codemirror_mode": {
    "name": "ipython",
    "version": 3
   },
   "file_extension": ".py",
   "mimetype": "text/x-python",
   "name": "python",
   "nbconvert_exporter": "python",
   "pygments_lexer": "ipython3",
   "version": "3.10.7"
  },
  "orig_nbformat": 4,
  "vscode": {
   "interpreter": {
    "hash": "101498bf91cd08ed38643c0d863d6cf15c6060df1343914c817ebac5a997e30a"
   }
  }
 },
 "nbformat": 4,
 "nbformat_minor": 2
}
