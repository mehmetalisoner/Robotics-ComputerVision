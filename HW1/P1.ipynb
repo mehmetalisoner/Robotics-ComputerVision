{
 "cells": [
  {
   "cell_type": "code",
   "execution_count": 13,
   "id": "900b6d9a",
   "metadata": {},
   "outputs": [
    {
     "name": "stdout",
     "output_type": "stream",
     "text": [
      "[[-1.32 -0.18  2.13]\n",
      " [ 2.64 -4.68  4.65]\n",
      " [ 1.47 -4.75  6.8 ]]\n"
     ]
    }
   ],
   "source": [
    "import numpy as np\n",
    "from numpy import array\n",
    "import scipy as scp\n",
    "from scipy.linalg import svd\n",
    "\n",
    "A = array([[-1.32, -0.18, 2.13], [2.64, -4.68, 4.65] , [1.47, -4.75,6.80] ])\n",
    "\n",
    "print(A)\n"
   ]
  },
  {
   "cell_type": "code",
   "execution_count": 17,
   "id": "bbbf55c1",
   "metadata": {},
   "outputs": [
    {
     "name": "stdout",
     "output_type": "stream",
     "text": [
      "U= [[ 0.1288709  -0.81535465 -0.56443697]\n",
      " [ 0.63455281  0.50520086 -0.58490583]\n",
      " [ 0.76205973 -0.28278772  0.58249127]]\n",
      "\n",
      "s= [11.01365384  2.54146561  0.09990768]\n",
      "\n",
      "[[ 0.23837118 -0.60040816  0.76334083]\n",
      " [ 0.78470487 -0.34402767 -0.51563866]\n",
      " [ 0.57220403  0.72191066  0.38913692]]\n",
      "\n"
     ]
    }
   ],
   "source": [
    "U, s, VT = svd(A)\n",
    "print(\"U=\",U)\n",
    "print()\n",
    "print(\"s=\",s)\n",
    "print()\n",
    "print(VT)\n",
    "print()"
   ]
  },
  {
   "cell_type": "code",
   "execution_count": null,
   "id": "0e57fe43",
   "metadata": {},
   "outputs": [],
   "source": []
  }
 ],
 "metadata": {
  "kernelspec": {
   "display_name": "Python 3.10.7 64-bit",
   "language": "python",
   "name": "python3"
  },
  "language_info": {
   "codemirror_mode": {
    "name": "ipython",
    "version": 3
   },
   "file_extension": ".py",
   "mimetype": "text/x-python",
   "name": "python",
   "nbconvert_exporter": "python",
   "pygments_lexer": "ipython3",
   "version": "3.10.7"
  },
  "vscode": {
   "interpreter": {
    "hash": "101498bf91cd08ed38643c0d863d6cf15c6060df1343914c817ebac5a997e30a"
   }
  }
 },
 "nbformat": 4,
 "nbformat_minor": 5
}
