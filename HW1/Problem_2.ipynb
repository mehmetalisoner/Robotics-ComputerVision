{
  "nbformat": 4,
  "nbformat_minor": 0,
  "metadata": {
    "colab": {
      "name": "Problem_2.ipynb",
      "provenance": []
    },
    "kernelspec": {
      "name": "python3",
      "display_name": "Python 3"
    }
  },
  "cells": [
    {
      "cell_type": "code",
      "metadata": {
        "id": "kF9L73Ooqves",
        "colab_type": "code",
        "colab": {}
      },
      "source": [
        "import numpy as np\n",
        "from numpy.linalg import inv"
      ],
      "execution_count": 5,
      "outputs": []
    },
    {
      "cell_type": "code",
      "metadata": {
        "id": "b2AqwxNXs7bW",
        "colab_type": "code",
        "colab": {}
      },
      "source": [
        "# X and Y coordinates from problem description\n",
        "x = [-1, 2.5, 6.0, -3.5, 3.0, 8.5]\n",
        "y = [8.5, 3.0, -5.5, 13.0, 0.0, -10.0]"
      ],
      "execution_count": 6,
      "outputs": []
    },
    {
      "cell_type": "code",
      "metadata": {
        "id": "EthOUWp5tTpW",
        "colab_type": "code",
        "colab": {}
      },
      "source": [
        "# TODO: Form the A matrix and the b vector\n"
      ],
      "execution_count": 7,
      "outputs": []
    },
    {
      "cell_type": "code",
      "metadata": {
        "id": "OYC3qMTltgVX",
        "colab_type": "code",
        "colab": {}
      },
      "source": [
        "# TODO: Find the vector q\n"
      ],
      "execution_count": 18,
      "outputs": []
    },
    {
      "cell_type": "code",
      "metadata": {
        "id": "NGw-XA15t_kI",
        "colab_type": "code",
        "colab": {}
      },
      "source": [
        "# Display computed q vector\n",
        "print('y = {0:2.3f}x + {1:2.3f}'.format(q[0], q[1]))"
      ],
      "execution_count": null,
      "outputs": []
    },
    {
      "cell_type": "code",
      "metadata": {
        "id": "V4RU11p0ufZx",
        "colab_type": "code",
        "colab": {}
      },
      "source": [
        ""
      ],
      "execution_count": null,
      "outputs": []
    }
  ]
}